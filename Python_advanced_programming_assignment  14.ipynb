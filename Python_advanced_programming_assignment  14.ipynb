{
 "cells": [
  {
   "cell_type": "code",
   "execution_count": null,
   "id": "4a58269d",
   "metadata": {},
   "outputs": [],
   "source": [
    "1. Given a list of numbers, create a function that removes 25% from every number in the list except the smallest number, and adds the total amount removed to the smallest number.\n",
    "\n",
    "Examples\n",
    "\n",
    "show_the_love([4, 1, 4]) ➞ [3, 3, 3]\n",
    "\n",
    "show_the_love([16, 10, 8]) ➞ [12, 7.5, 14.5]\n",
    "\n",
    "show_the_love([2, 100]) ➞ [27, 75]\n",
    "\n",
    "2. Create a function that takes in two words as input and returns a list of three elements, in the following order:\n",
    "\n",
    "   1.Shared letters between two words.\n",
    "   2.Letters unique to word 1.\n",
    "   3.Letters unique to word 2.\n",
    "\n",
    "Each element should have unique letters, and have each letter be alphabetically sorted.\n",
    "\n",
    "Examples\n",
    "\n",
    "letters(\"sharp\", \"soap\") ➞ [\"aps\", \"hr\", \"o\"]\n",
    "\n",
    "letters(\"board\", \"bored\") ➞ [\"bdor\", \"a\", \"e\"]\n",
    "\n",
    "letters(\"happiness\", \"envelope\") ➞ [\"enp\", \"ahis\", \"lov\"]\n",
    "\n",
    "letters(\"kerfuffle\", \"fluffy\") ➞ [\"flu\", \"ekr\", \"y\"]\n",
    "# Even with multiple matching letters (e.g. 3 f's), there should \n",
    "# only exist a single \"f\" in your first element.\n",
    "\n",
    "letters(\"match\", \"ham\") ➞ [\"ahm\", \"ct\", \"\"]\n",
    "# \"ham\" does not contain any letters that are not found already \n",
    "# in \"match\".\n",
    "\n",
    "3. Write a function that pairs the first number in an array with the last, the second number with the second to last, etc.\n",
    "\n",
    "Examples\n",
    "\n",
    "pairs([1, 2, 3, 4, 5, 6, 7]) ➞ [[1, 7], [2, 6], [3, 5], [4, 4]]\n",
    "\n",
    "pairs([1, 2, 3, 4, 5, 6]) ➞ [[1, 6], [2, 5], [3, 4]]\n",
    "\n",
    "pairs([5, 9, 8, 1, 2]) ➞ [[5, 2], [9, 1], [8, 8]]\n",
    "\n",
    "pairs([]) ➞ []\n",
    "\n",
    "4. Write a function that adds two numbers. The catch, however, is that the numbers will be strings.\n",
    "\n",
    "Examples\n",
    "\n",
    "add_str_nums(\"4\", \"5\") ➞ \"9\"\n",
    "\n",
    "add_str_nums(\"abcdefg\", \"3\") ➞ \"-1\"\n",
    "\n",
    "add_str_nums(\"1\", \"\") ➞ \"1\"\n",
    "\n",
    "add_str_nums(\"1874682736267235927359283579235789257\", \"32652983572985729\") ➞ \"1874682736267235927391936562808774986\"\n",
    "\n",
    "5. lPaeesh le pemu mnxit ehess rtnisg! Oh, sorry, that was supposed to say: Please help me unmix these strings!\n",
    "\n",
    "Somehow my strings have all become mixed up; every pair of characters has been swapped. Help me undo this so I can understand my strings again.\n",
    "\n",
    "Examples\n",
    "\n",
    "unmix(\"123456\") ➞ \"214365\"\n",
    "\n",
    "unmix(\"hTsii  s aimex dpus rtni.g\") ➞ \"This is a mixed up string.\"\n",
    "\n",
    "unmix(\"badce\") ➞ \"abcde\"\n",
    "\n"
   ]
  },
  {
   "cell_type": "code",
   "execution_count": null,
   "id": "d9abe8e0",
   "metadata": {},
   "outputs": [],
   "source": [
    "1. Given a list of numbers, create a function that removes 25% from every number in the list except the smallest number, \n",
    "and adds the total amount removed to the smallest number.\n",
    "\n",
    "Examples\n",
    "\n",
    "show_the_love([4, 1, 4]) ➞ [3, 3, 3]\n",
    "\n",
    "show_the_love([16, 10, 8]) ➞ [12, 7.5, 14.5]\n",
    "\n",
    "show_the_love([2, 100]) ➞ [27, 75]"
   ]
  },
  {
   "cell_type": "code",
   "execution_count": 22,
   "id": "b286a2f5",
   "metadata": {},
   "outputs": [],
   "source": [
    "def show_the_love(n):\n",
    "    max=0\n",
    "    min=1000\n",
    "    x=[]\n",
    "    for i in n:\n",
    "        if(i>max):\n",
    "            max=i\n",
    "    print(max)\n",
    "    for i in n:\n",
    "        if(i<min):\n",
    "            min=i\n",
    "    print(min)\n",
    "    \n",
    "    while(i<len(n)):\n",
    "        if(n[i]==max):\n",
    "                print(max)\n",
    "                y=n[i]*0.75\n",
    "                print(y)\n",
    "                x.append(y)\n",
    "                i+=1\n",
    "        elif(n[i]==min):\n",
    "                n[i]=n[i]+max*0.25\n",
    "                print(n[i])\n",
    "                x.append(n[i])\n",
    "                i+=1\n",
    "        else:\n",
    "            x.append(n[i])\n",
    "            i+=1\n",
    "    return x\n",
    "           "
   ]
  },
  {
   "cell_type": "code",
   "execution_count": 24,
   "id": "db3089b7",
   "metadata": {},
   "outputs": [],
   "source": [
    "def show_the_love(l):\n",
    "    m= min(l)\n",
    "    x= l.index(m)\n",
    "    tf = 0\n",
    "    for i in range(len(l)):\n",
    "        if l[i] != m:\n",
    "            tf=tf+l[i]*0.25\n",
    "            l[i] = l[i]-(l[i]*0.25)\n",
    "    l[x]=l[x]+tf\n",
    "    return(l)"
   ]
  },
  {
   "cell_type": "code",
   "execution_count": null,
   "id": "9695fbee",
   "metadata": {},
   "outputs": [],
   "source": []
  },
  {
   "cell_type": "code",
   "execution_count": 25,
   "id": "8ae477ad",
   "metadata": {},
   "outputs": [
    {
     "data": {
      "text/plain": [
       "[12.0, 7.5, 14.5]"
      ]
     },
     "execution_count": 25,
     "metadata": {},
     "output_type": "execute_result"
    }
   ],
   "source": [
    "show_the_love([16, 10, 8])"
   ]
  },
  {
   "cell_type": "code",
   "execution_count": null,
   "id": "983b8ac2",
   "metadata": {},
   "outputs": [],
   "source": []
  },
  {
   "cell_type": "code",
   "execution_count": 118,
   "id": "7bb2d7dd",
   "metadata": {},
   "outputs": [],
   "source": [
    "def letters(x,y):\n",
    "    x1=list(x)\n",
    "    y1=list(y)\n",
    "    x2=len(x1)\n",
    "    y2=len(y1)\n",
    "    l2=[[],[],[]]\n",
    "    l=[[],[],[]]\n",
    "    if(x2>y2):\n",
    "        for i in x1:\n",
    "            if i in y1:\n",
    "                l[0].append(i)\n",
    "            elif i in  x1:\n",
    "                l[1].append(i)\n",
    "            \n",
    "        for i in y1:\n",
    "            if i not in x1:\n",
    "                l[2].append(i)\n",
    "            (''.join(l[2]))\n",
    "        return l\n",
    "                        \n",
    "            "
   ]
  },
  {
   "cell_type": "code",
   "execution_count": 119,
   "id": "19ebbfd9",
   "metadata": {},
   "outputs": [
    {
     "data": {
      "text/plain": [
       "[['s', 'a', 'p'], ['h', 'r'], ['o']]"
      ]
     },
     "execution_count": 119,
     "metadata": {},
     "output_type": "execute_result"
    }
   ],
   "source": [
    "letters(\"sharp\", \"soap\")"
   ]
  },
  {
   "cell_type": "code",
   "execution_count": null,
   "id": "c14be318",
   "metadata": {},
   "outputs": [],
   "source": [
    "3. Write a function that pairs the first number in an array with the last, the second number with the second to last, etc.\n",
    "\n",
    "Examples\n",
    "\n",
    "pairs([1, 2, 3, 4, 5, 6, 7]) ➞ [[1, 7], [2, 6], [3, 5], [4, 4]]\n",
    "\n",
    "pairs([1, 2, 3, 4, 5, 6]) ➞ [[1, 6], [2, 5], [3, 4]]\n",
    "\n",
    "pairs([5, 9, 8, 1, 2]) ➞ [[5, 2], [9, 1], [8, 8]]\n",
    "\n",
    "pairs([]) ➞ []"
   ]
  },
  {
   "cell_type": "code",
   "execution_count": 30,
   "id": "1d03fb67",
   "metadata": {},
   "outputs": [],
   "source": [
    "def pairs(l):\n",
    "    r = l[::-1]\n",
    "    a=[]\n",
    "    n=[]\n",
    "    i = 0\n",
    "    if len(l) %2 == 0:\n",
    "        length = int(len(l)/2)\n",
    "    else:\n",
    "        length = int(len(l)/2) +1\n",
    "    while length:\n",
    "        a.append(l[i])\n",
    "        a.append(r[i])\n",
    "        length = length -1\n",
    "        i = i+1\n",
    "    i=0\n",
    "    while i<len(a):\n",
    "        n.append(a[i:i+2])\n",
    "        i+=2\n",
    "    return n"
   ]
  },
  {
   "cell_type": "code",
   "execution_count": 31,
   "id": "4e4c869c",
   "metadata": {},
   "outputs": [
    {
     "data": {
      "text/plain": [
       "[[1, 7], [2, 6], [3, 5], [4, 4]]"
      ]
     },
     "execution_count": 31,
     "metadata": {},
     "output_type": "execute_result"
    }
   ],
   "source": [
    "pairs([1, 2, 3, 4, 5, 6, 7])"
   ]
  },
  {
   "cell_type": "code",
   "execution_count": null,
   "id": "9cc7434c",
   "metadata": {},
   "outputs": [],
   "source": []
  },
  {
   "cell_type": "code",
   "execution_count": null,
   "id": "aac2f4e2",
   "metadata": {},
   "outputs": [],
   "source": [
    "4. Write a function that adds two numbers. The catch, however, is that the numbers will be strings.\n",
    "\n",
    "Examples\n",
    "\n",
    "add_str_nums(\"4\", \"5\") ➞ \"9\"\n",
    "\n",
    "add_str_nums(\"abcdefg\", \"3\") ➞ \"-1\"\n",
    "\n",
    "add_str_nums(\"1\", \"\") ➞ \"1\"\n",
    "\n",
    "add_str_nums(\"1874682736267235927359283579235789257\", \"32652983572985729\") ➞ \"1874682736267235927391936562808774986\""
   ]
  },
  {
   "cell_type": "code",
   "execution_count": 190,
   "id": "a0de456b",
   "metadata": {},
   "outputs": [],
   "source": [
    "def add_str_nums(x,y):\n",
    "    if(x.isalpha() or y.isalpha()):\n",
    "        return -1\n",
    "    elif(x==\"\" and y!=\"\"):\n",
    "        return y\n",
    "    elif(x!=\"\" and y==\"\"):\n",
    "        return x\n",
    "    else:\n",
    "        x1=int(x)\n",
    "        y2=int(y)\n",
    "    return x1+y2"
   ]
  },
  {
   "cell_type": "code",
   "execution_count": 191,
   "id": "38ce8df4",
   "metadata": {},
   "outputs": [
    {
     "data": {
      "text/plain": [
       "9"
      ]
     },
     "execution_count": 191,
     "metadata": {},
     "output_type": "execute_result"
    }
   ],
   "source": [
    "add_str_nums(\"4\", \"5\")"
   ]
  },
  {
   "cell_type": "code",
   "execution_count": 192,
   "id": "00bf14d5",
   "metadata": {},
   "outputs": [
    {
     "data": {
      "text/plain": [
       "-1"
      ]
     },
     "execution_count": 192,
     "metadata": {},
     "output_type": "execute_result"
    }
   ],
   "source": [
    "add_str_nums(\"abcdefg\", \"3\")"
   ]
  },
  {
   "cell_type": "code",
   "execution_count": 193,
   "id": "7e4d0c65",
   "metadata": {},
   "outputs": [
    {
     "data": {
      "text/plain": [
       "'1'"
      ]
     },
     "execution_count": 193,
     "metadata": {},
     "output_type": "execute_result"
    }
   ],
   "source": [
    "add_str_nums(\"1\", \"\")"
   ]
  },
  {
   "cell_type": "code",
   "execution_count": 194,
   "id": "553b9326",
   "metadata": {},
   "outputs": [
    {
     "data": {
      "text/plain": [
       "1874682736267235927391936562808774986"
      ]
     },
     "execution_count": 194,
     "metadata": {},
     "output_type": "execute_result"
    }
   ],
   "source": [
    "add_str_nums(\"1874682736267235927359283579235789257\", \"32652983572985729\")"
   ]
  },
  {
   "cell_type": "code",
   "execution_count": null,
   "id": "c13c33f7",
   "metadata": {},
   "outputs": [],
   "source": [
    "5. lPaeesh le pemu mnxit ehess rtnisg! Oh, sorry, that was supposed to say: Please help me unmix these strings!\n",
    "\n",
    "Somehow my strings have all become mixed up; every pair of characters has been swapped. Help me undo this so I can understand my strings again.\n",
    "\n",
    "Examples\n",
    "\n",
    "unmix(\"123456\") ➞ \"214365\"\n",
    "\n",
    "unmix(\"hTsii  s aimex dpus rtni.g\") ➞ \"This is a mixed up string.\"\n",
    "\n",
    "unmix(\"badce\") ➞ \"abcde\"\n"
   ]
  },
  {
   "cell_type": "code",
   "execution_count": 279,
   "id": "47ba8bd4",
   "metadata": {},
   "outputs": [],
   "source": [
    "def unmix(n):\n",
    "    i=0\n",
    "    n1=list(n)\n",
    "    l=[]\n",
    "    for i in n1:\n",
    "        l.append(int(i))\n",
    "    print(l)\n",
    "    for i in range(1,len(l)):\n",
    "        if(i%2!=0):\n",
    "            l[i],l[i-1]=l[i-1],l[i]\n",
    "            \n",
    "    return l\n",
    "        \n",
    "        "
   ]
  },
  {
   "cell_type": "code",
   "execution_count": 280,
   "id": "55a28f75",
   "metadata": {},
   "outputs": [
    {
     "name": "stdout",
     "output_type": "stream",
     "text": [
      "[1, 2, 3, 4, 5, 6]\n"
     ]
    },
    {
     "data": {
      "text/plain": [
       "[2, 1, 4, 3, 6, 5]"
      ]
     },
     "execution_count": 280,
     "metadata": {},
     "output_type": "execute_result"
    }
   ],
   "source": [
    "unmix(\"123456\")"
   ]
  },
  {
   "cell_type": "code",
   "execution_count": 284,
   "id": "67d4fbff",
   "metadata": {},
   "outputs": [],
   "source": [
    "def unmix(n):\n",
    "    i=0\n",
    "    n1=list(n)\n",
    "    l=[]\n",
    "    for i in n1:\n",
    "        l.append((i))\n",
    "    print(l)\n",
    "    for i in range(1,len(l)):\n",
    "        if(i%2!=0):\n",
    "            l[i],l[i-1]=l[i-1],l[i]\n",
    "            \n",
    "    return l\n",
    "        "
   ]
  },
  {
   "cell_type": "code",
   "execution_count": null,
   "id": "82ce4318",
   "metadata": {},
   "outputs": [],
   "source": []
  },
  {
   "cell_type": "code",
   "execution_count": null,
   "id": "6800f172",
   "metadata": {},
   "outputs": [],
   "source": []
  },
  {
   "cell_type": "code",
   "execution_count": 285,
   "id": "53b87750",
   "metadata": {},
   "outputs": [
    {
     "name": "stdout",
     "output_type": "stream",
     "text": [
      "['h', 'T', 's', 'i', 'i', ' ', ' ', 's', ' ', 'a', 'i', 'm', 'e', 'x', ' ', 'd', 'p', 'u', 's', ' ', 'r', 't', 'n', 'i', ' ', 'g']\n"
     ]
    },
    {
     "data": {
      "text/plain": [
       "['T',\n",
       " 'h',\n",
       " 'i',\n",
       " 's',\n",
       " ' ',\n",
       " 'i',\n",
       " 's',\n",
       " ' ',\n",
       " 'a',\n",
       " ' ',\n",
       " 'm',\n",
       " 'i',\n",
       " 'x',\n",
       " 'e',\n",
       " 'd',\n",
       " ' ',\n",
       " 'u',\n",
       " 'p',\n",
       " ' ',\n",
       " 's',\n",
       " 't',\n",
       " 'r',\n",
       " 'i',\n",
       " 'n',\n",
       " 'g',\n",
       " ' ']"
      ]
     },
     "execution_count": 285,
     "metadata": {},
     "output_type": "execute_result"
    }
   ],
   "source": [
    "unmix(\"hTsii  s aimex dpus rtni g\")"
   ]
  },
  {
   "cell_type": "code",
   "execution_count": null,
   "id": "813deb6e",
   "metadata": {},
   "outputs": [],
   "source": []
  },
  {
   "cell_type": "code",
   "execution_count": null,
   "id": "6b286bdb",
   "metadata": {},
   "outputs": [],
   "source": []
  }
 ],
 "metadata": {
  "kernelspec": {
   "display_name": "Python 3",
   "language": "python",
   "name": "python3"
  },
  "language_info": {
   "codemirror_mode": {
    "name": "ipython",
    "version": 3
   },
   "file_extension": ".py",
   "mimetype": "text/x-python",
   "name": "python",
   "nbconvert_exporter": "python",
   "pygments_lexer": "ipython3",
   "version": "3.8.8"
  }
 },
 "nbformat": 4,
 "nbformat_minor": 5
}
