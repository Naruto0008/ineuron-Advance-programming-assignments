{
 "cells": [
  {
   "cell_type": "code",
   "execution_count": null,
   "id": "e4b46c8e",
   "metadata": {},
   "outputs": [],
   "source": [
    "Q.1. Rondo Form is a type of musical structure, in which there is a recurring theme/refrain, notated as A. \n",
    "Here are the rules for valid rondo forms:\n",
    "\n",
    "Rondo forms always start and end with an A section.\n",
    "In between the A sections, there should be contrasting sections notated as B, then C, then D, etc... \n",
    "No letter should be skipped.\n",
    "There shouldn't be any repeats in the sequence (such as ABBACCA).\n",
    "Create a function which validates whether a given string is a valid Rondo Form.\n",
    "\n",
    "Examples\n",
    "\n",
    "valid_rondo(\"ABACADAEAFAGAHAIAJA\") ➞ True\n",
    "\n",
    "valid_rondo(\"ABA\") ➞ True\n",
    "\n",
    "valid_rondo(\"ABBACCA\") ➞ False\n",
    "\n",
    "valid_rondo(\"ACAC\") ➞ False\n",
    "\n",
    "valid_rondo(\"A\") ➞ False"
   ]
  },
  {
   "cell_type": "code",
   "execution_count": 36,
   "id": "a0f04677",
   "metadata": {},
   "outputs": [],
   "source": [
    "def valid_rondo(x):\n",
    "    x1=list(x)\n",
    "    x2=len(x1)\n",
    "    \n",
    "    print(x2)\n",
    "    count=0\n",
    "    for i in x1:\n",
    "        if(i=='A'):\n",
    "            count+=1\n",
    "    print(count)\n",
    "    y1=set(x1)\n",
    "    print(y1)\n",
    "    if(count==1):\n",
    "        return False\n",
    "    if((((x2)//2))<count):\n",
    "        return True\n",
    "    else:\n",
    "        return False\n",
    "    \n",
    "        "
   ]
  },
  {
   "cell_type": "code",
   "execution_count": 37,
   "id": "5352a202",
   "metadata": {},
   "outputs": [
    {
     "name": "stdout",
     "output_type": "stream",
     "text": [
      "7\n",
      "3\n",
      "{'B', 'A', 'C'}\n"
     ]
    },
    {
     "data": {
      "text/plain": [
       "False"
      ]
     },
     "execution_count": 37,
     "metadata": {},
     "output_type": "execute_result"
    }
   ],
   "source": [
    "valid_rondo(\"ABBACCA\")"
   ]
  },
  {
   "cell_type": "code",
   "execution_count": 38,
   "id": "89ef47b3",
   "metadata": {},
   "outputs": [
    {
     "name": "stdout",
     "output_type": "stream",
     "text": [
      "1\n",
      "1\n",
      "{'A'}\n"
     ]
    },
    {
     "data": {
      "text/plain": [
       "False"
      ]
     },
     "execution_count": 38,
     "metadata": {},
     "output_type": "execute_result"
    }
   ],
   "source": [
    "valid_rondo(\"A\")"
   ]
  },
  {
   "cell_type": "code",
   "execution_count": 39,
   "id": "8434ddd8",
   "metadata": {},
   "outputs": [
    {
     "name": "stdout",
     "output_type": "stream",
     "text": [
      "4\n",
      "2\n",
      "{'A', 'C'}\n"
     ]
    },
    {
     "data": {
      "text/plain": [
       "False"
      ]
     },
     "execution_count": 39,
     "metadata": {},
     "output_type": "execute_result"
    }
   ],
   "source": [
    "valid_rondo(\"ACAC\")"
   ]
  },
  {
   "cell_type": "code",
   "execution_count": 40,
   "id": "282e8c08",
   "metadata": {},
   "outputs": [
    {
     "name": "stdout",
     "output_type": "stream",
     "text": [
      "7\n",
      "3\n",
      "{'B', 'A', 'C'}\n"
     ]
    },
    {
     "data": {
      "text/plain": [
       "False"
      ]
     },
     "execution_count": 40,
     "metadata": {},
     "output_type": "execute_result"
    }
   ],
   "source": [
    "valid_rondo(\"ABBACCA\") "
   ]
  },
  {
   "cell_type": "code",
   "execution_count": 50,
   "id": "c0718c6a",
   "metadata": {},
   "outputs": [
    {
     "name": "stdout",
     "output_type": "stream",
     "text": [
      "7\n",
      "4\n",
      "{'D', 'B', 'A', 'C'}\n"
     ]
    },
    {
     "data": {
      "text/plain": [
       "True"
      ]
     },
     "execution_count": 50,
     "metadata": {},
     "output_type": "execute_result"
    }
   ],
   "source": [
    "valid_rondo(\"ABACADA\") "
   ]
  },
  {
   "cell_type": "code",
   "execution_count": 51,
   "id": "f5baf1ae",
   "metadata": {},
   "outputs": [
    {
     "name": "stdout",
     "output_type": "stream",
     "text": [
      "1\n",
      "1\n",
      "{'A'}\n"
     ]
    },
    {
     "data": {
      "text/plain": [
       "False"
      ]
     },
     "execution_count": 51,
     "metadata": {},
     "output_type": "execute_result"
    }
   ],
   "source": [
    "valid_rondo(\"A\")"
   ]
  },
  {
   "cell_type": "code",
   "execution_count": null,
   "id": "bc934eaf",
   "metadata": {},
   "outputs": [],
   "source": [
    "Q. 2. Create a function that returns the whole of the first sentence which contains a specific word. \n",
    "Include the full stop at the end of the sentence.\n",
    "\n",
    "Examples\n",
    "\n",
    "txt = \"I have a cat. I have a mat. Things are going swell.\"\n",
    "\n",
    "sentence_searcher(txt, \"have\") ➞ \"I have a cat.\"\n",
    "\n",
    "sentence_searcher(txt, \"MAT\") ➞ \"I have a mat.\"\n",
    "\n",
    "sentence_searcher(txt, \"things\") ➞ \"Things are going swell.\"\n",
    "\n",
    "sentence_searcher(txt, \"flat\") ➞ \"\""
   ]
  },
  {
   "cell_type": "code",
   "execution_count": 64,
   "id": "47629abb",
   "metadata": {},
   "outputs": [],
   "source": [
    "def sentence_searcher(x,y):\n",
    "    x=x.split('.')\n",
    "    print(x)\n",
    "    i=0\n",
    "    l=[]\n",
    "    x2=len(x)\n",
    "    for i in x:\n",
    "        if  y.casefold() in i.casefold():\n",
    "            l.append(i)\n",
    "        else:\n",
    "            continue\n",
    "        return l\n",
    "        \n",
    "        "
   ]
  },
  {
   "cell_type": "code",
   "execution_count": 65,
   "id": "9f41abe8",
   "metadata": {},
   "outputs": [],
   "source": [
    "x = \"I have a cat. I have a mat. Things are going swell.\""
   ]
  },
  {
   "cell_type": "code",
   "execution_count": 66,
   "id": "8efc919e",
   "metadata": {},
   "outputs": [
    {
     "name": "stdout",
     "output_type": "stream",
     "text": [
      "['I have a cat', ' I have a mat', ' Things are going swell', '']\n"
     ]
    },
    {
     "data": {
      "text/plain": [
       "['I have a cat']"
      ]
     },
     "execution_count": 66,
     "metadata": {},
     "output_type": "execute_result"
    }
   ],
   "source": [
    "sentence_searcher(x,\"have\")"
   ]
  },
  {
   "cell_type": "code",
   "execution_count": 67,
   "id": "6516fd2b",
   "metadata": {},
   "outputs": [
    {
     "name": "stdout",
     "output_type": "stream",
     "text": [
      "['I have a cat', ' I have a mat', ' Things are going swell', '']\n"
     ]
    }
   ],
   "source": [
    "sentence_searcher(x, \"flat\")"
   ]
  },
  {
   "cell_type": "code",
   "execution_count": 68,
   "id": "9325faa4",
   "metadata": {},
   "outputs": [
    {
     "name": "stdout",
     "output_type": "stream",
     "text": [
      "['I have a cat', ' I have a mat', ' Things are going swell', '']\n"
     ]
    },
    {
     "data": {
      "text/plain": [
       "[' Things are going swell']"
      ]
     },
     "execution_count": 68,
     "metadata": {},
     "output_type": "execute_result"
    }
   ],
   "source": [
    "sentence_searcher(x, \"things\")"
   ]
  },
  {
   "cell_type": "code",
   "execution_count": 25,
   "id": "d35c9693",
   "metadata": {},
   "outputs": [
    {
     "ename": "SyntaxError",
     "evalue": "invalid syntax (<ipython-input-25-37c9316dc7e3>, line 1)",
     "output_type": "error",
     "traceback": [
      "\u001b[1;36m  File \u001b[1;32m\"<ipython-input-25-37c9316dc7e3>\"\u001b[1;36m, line \u001b[1;32m1\u001b[0m\n\u001b[1;33m    Q. 3. Given a number, find the \"round \"of each digit of the number. An integer is called \"round\"\u001b[0m\n\u001b[1;37m       ^\u001b[0m\n\u001b[1;31mSyntaxError\u001b[0m\u001b[1;31m:\u001b[0m invalid syntax\n"
     ]
    }
   ],
   "source": [
    "Q. 3. Given a number, find the \"round \"of each digit of the number. An integer is called \"round\"\n",
    "if all its digits except the leftmost (most significant) are equal to zero.\n",
    "\n",
    "- Round numbers: 4000, 1, 9, 800, 90\n",
    "- Not round numbers: 110, 707, 222, 1001\n",
    "\n",
    "Create a function that takes a number and returns the \"round\" of each digit (except if the digit is zero) \n",
    "as a string. Check out the following examples for more clarification.\n",
    "\n",
    "Examples\n",
    "\n",
    "sum_round(101) ➞ \"1 100\"\n",
    "\n",
    "sum_round(1234) ➞ \"4 30 200 1000\"\n",
    "\n",
    "sum_round(54210) ➞ \"10 200 4000 50000\""
   ]
  },
  {
   "cell_type": "code",
   "execution_count": 75,
   "id": "89ab0282",
   "metadata": {},
   "outputs": [],
   "source": [
    "def sum_round(x):\n",
    "    z=str(x)\n",
    "    l=[]\n",
    "    print(z)\n",
    "    if(int(z)==1):\n",
    "        return z\n",
    "    else:\n",
    "        while(x>0):\n",
    "            y=(x)%10\n",
    "            l.append(y)\n",
    "            x=y\n",
    "    return l           "
   ]
  },
  {
   "cell_type": "code",
   "execution_count": 76,
   "id": "7805b470",
   "metadata": {},
   "outputs": [
    {
     "name": "stdout",
     "output_type": "stream",
     "text": [
      "101\n"
     ]
    },
    {
     "ename": "KeyboardInterrupt",
     "evalue": "",
     "output_type": "error",
     "traceback": [
      "\u001b[1;31m---------------------------------------------------------------------------\u001b[0m",
      "\u001b[1;31mKeyboardInterrupt\u001b[0m                         Traceback (most recent call last)",
      "\u001b[1;32m<ipython-input-76-9c72b7b93a60>\u001b[0m in \u001b[0;36m<module>\u001b[1;34m\u001b[0m\n\u001b[1;32m----> 1\u001b[1;33m \u001b[0msum_round\u001b[0m\u001b[1;33m(\u001b[0m\u001b[1;36m101\u001b[0m\u001b[1;33m)\u001b[0m\u001b[1;33m\u001b[0m\u001b[1;33m\u001b[0m\u001b[0m\n\u001b[0m",
      "\u001b[1;32m<ipython-input-75-60eea425c940>\u001b[0m in \u001b[0;36msum_round\u001b[1;34m(x)\u001b[0m\n\u001b[0;32m      8\u001b[0m         \u001b[1;32mwhile\u001b[0m\u001b[1;33m(\u001b[0m\u001b[0mx\u001b[0m\u001b[1;33m>\u001b[0m\u001b[1;36m0\u001b[0m\u001b[1;33m)\u001b[0m\u001b[1;33m:\u001b[0m\u001b[1;33m\u001b[0m\u001b[1;33m\u001b[0m\u001b[0m\n\u001b[0;32m      9\u001b[0m             \u001b[0my\u001b[0m\u001b[1;33m=\u001b[0m\u001b[1;33m(\u001b[0m\u001b[0mx\u001b[0m\u001b[1;33m)\u001b[0m\u001b[1;33m%\u001b[0m\u001b[1;36m10\u001b[0m\u001b[1;33m\u001b[0m\u001b[1;33m\u001b[0m\u001b[0m\n\u001b[1;32m---> 10\u001b[1;33m             \u001b[0ml\u001b[0m\u001b[1;33m.\u001b[0m\u001b[0mappend\u001b[0m\u001b[1;33m(\u001b[0m\u001b[0my\u001b[0m\u001b[1;33m)\u001b[0m\u001b[1;33m\u001b[0m\u001b[1;33m\u001b[0m\u001b[0m\n\u001b[0m\u001b[0;32m     11\u001b[0m             \u001b[0mx\u001b[0m\u001b[1;33m=\u001b[0m\u001b[0my\u001b[0m\u001b[1;33m\u001b[0m\u001b[1;33m\u001b[0m\u001b[0m\n\u001b[0;32m     12\u001b[0m     \u001b[1;32mreturn\u001b[0m \u001b[0ml\u001b[0m\u001b[1;33m\u001b[0m\u001b[1;33m\u001b[0m\u001b[0m\n",
      "\u001b[1;31mKeyboardInterrupt\u001b[0m: "
     ]
    }
   ],
   "source": [
    "sum_round(101)"
   ]
  },
  {
   "cell_type": "code",
   "execution_count": null,
   "id": "01148148",
   "metadata": {},
   "outputs": [],
   "source": []
  },
  {
   "cell_type": "code",
   "execution_count": null,
   "id": "229ea3c1",
   "metadata": {},
   "outputs": [],
   "source": [
    "Q.4. Your task, is to create N x N multiplication table, of size n provided in parameter. For example, when n is 5, \n",
    "the multiplication table is:\n",
    "\n",
    "1, 2, 3, 4, 5\n",
    "2, 4, 6, 8, 10\n",
    "3, 6, 9, 12, 15\n",
    "4, 8, 12, 16, 20\n",
    "5, 10, 15, 20, 25 This example will result in: [[1, 2, 3, 4, 5], [2, 4, 6, 8, 10], [3, 6, 9, 12, 15]\n",
    ", [4, 8, 12, 16, 20], [5, 10, 15, 20, 25]] Examples multiplication_table(1) ➞ [[1]] \n",
    "    multiplication_table(3) ➞ [[1, 2, 3], [2, 4, 6], [3, 6, 9]]"
   ]
  },
  {
   "cell_type": "code",
   "execution_count": 221,
   "id": "bd7bce71",
   "metadata": {},
   "outputs": [],
   "source": [
    "def multiplication_table(n):\n",
    "    a=[]\n",
    "    mat=[]\n",
    "    if(n==1):\n",
    "        l.append(n)\n",
    "    else:\n",
    "        for i in range(1,n+1):\n",
    "            a=[]\n",
    "            for j in range(1,n+1):\n",
    "                     a.append(i*j)\n",
    "            mat.append(a)   \n",
    "        return mat       "
   ]
  },
  {
   "cell_type": "code",
   "execution_count": 222,
   "id": "2983af35",
   "metadata": {},
   "outputs": [
    {
     "data": {
      "text/plain": [
       "[[1, 2, 3], [2, 4, 6], [3, 6, 9]]"
      ]
     },
     "execution_count": 222,
     "metadata": {},
     "output_type": "execute_result"
    }
   ],
   "source": [
    " multiplication_table(3)"
   ]
  },
  {
   "cell_type": "code",
   "execution_count": 224,
   "id": "539e8972",
   "metadata": {},
   "outputs": [
    {
     "data": {
      "text/plain": [
       "[[1, 2, 3, 4, 5],\n",
       " [2, 4, 6, 8, 10],\n",
       " [3, 6, 9, 12, 15],\n",
       " [4, 8, 12, 16, 20],\n",
       " [5, 10, 15, 20, 25]]"
      ]
     },
     "execution_count": 224,
     "metadata": {},
     "output_type": "execute_result"
    }
   ],
   "source": [
    " multiplication_table(5)"
   ]
  },
  {
   "cell_type": "code",
   "execution_count": null,
   "id": "0905c0f4",
   "metadata": {},
   "outputs": [],
   "source": [
    "Q. 5. Create a function that returns True if two lines rhyme and False otherwise. \n",
    "For the purposes of this exercise, two lines rhyme if the last word from each sentence contains the same vowels.\n",
    "\n",
    "Examples\n",
    "\n",
    "does_rhyme(\"Sam I am!\", \"Green eggs and ham.\") ➞ True\n",
    "\n",
    "does_rhyme(\"Sam I am!\", \"Green eggs and HAM.\") ➞ True\n",
    "\n",
    "Capitalization and punctuation should not matter.\n",
    "\n",
    "does_rhyme(\"You are off to the races\", \"a splendid day.\") ➞ False\n",
    "\n",
    "does_rhyme(\"and frequently do?\", \"you gotta move.\") ➞ False"
   ]
  },
  {
   "cell_type": "code",
   "execution_count": 313,
   "id": "0e2a6bac",
   "metadata": {},
   "outputs": [],
   "source": [
    "def does_rhyme(x,y):\n",
    "    x=x.split(' ')\n",
    "    y=y.split(' ')\n",
    "    y1=list(y[-1])\n",
    "    x1=list(x[-1])\n",
    "    for i in y1:\n",
    "        for j in x1:\n",
    "            if i  in \".!&@.\":\n",
    "                y[-1]= y[-1].replace(i,\" \")\n",
    "            if j  in \".!&@.\":\n",
    "                x[-1]= x[-1].replace(j,\" \")\n",
    "    print(x[-1],y[-1])\n",
    "    if x[-1].casefold() in y[-1].casefold():\n",
    "        return True\n",
    "    else:\n",
    "        return False"
   ]
  },
  {
   "cell_type": "code",
   "execution_count": 314,
   "id": "8a4920f8",
   "metadata": {},
   "outputs": [
    {
     "name": "stdout",
     "output_type": "stream",
     "text": [
      "am  ham \n"
     ]
    },
    {
     "data": {
      "text/plain": [
       "True"
      ]
     },
     "execution_count": 314,
     "metadata": {},
     "output_type": "execute_result"
    }
   ],
   "source": [
    "does_rhyme(\"Sam I am!\", \"Green eggs and ham.\")"
   ]
  },
  {
   "cell_type": "code",
   "execution_count": 315,
   "id": "8af626d0",
   "metadata": {},
   "outputs": [
    {
     "name": "stdout",
     "output_type": "stream",
     "text": [
      "races day \n"
     ]
    },
    {
     "data": {
      "text/plain": [
       "False"
      ]
     },
     "execution_count": 315,
     "metadata": {},
     "output_type": "execute_result"
    }
   ],
   "source": [
    "does_rhyme(\"You are off to the races\", \"a splendid day.\")"
   ]
  },
  {
   "cell_type": "code",
   "execution_count": 316,
   "id": "c0f5a4bb",
   "metadata": {},
   "outputs": [
    {
     "name": "stdout",
     "output_type": "stream",
     "text": [
      "do? move \n"
     ]
    },
    {
     "data": {
      "text/plain": [
       "False"
      ]
     },
     "execution_count": 316,
     "metadata": {},
     "output_type": "execute_result"
    }
   ],
   "source": [
    "does_rhyme(\"and frequently do?\", \"you gotta move.\")"
   ]
  },
  {
   "cell_type": "code",
   "execution_count": 317,
   "id": "bc528a84",
   "metadata": {},
   "outputs": [
    {
     "name": "stdout",
     "output_type": "stream",
     "text": [
      "am  HAM \n"
     ]
    },
    {
     "data": {
      "text/plain": [
       "True"
      ]
     },
     "execution_count": 317,
     "metadata": {},
     "output_type": "execute_result"
    }
   ],
   "source": [
    "does_rhyme(\"Sam I am!\", \"Green eggs and HAM.\")"
   ]
  },
  {
   "cell_type": "code",
   "execution_count": null,
   "id": "3dadb578",
   "metadata": {},
   "outputs": [],
   "source": []
  }
 ],
 "metadata": {
  "kernelspec": {
   "display_name": "Python 3",
   "language": "python",
   "name": "python3"
  },
  "language_info": {
   "codemirror_mode": {
    "name": "ipython",
    "version": 3
   },
   "file_extension": ".py",
   "mimetype": "text/x-python",
   "name": "python",
   "nbconvert_exporter": "python",
   "pygments_lexer": "ipython3",
   "version": "3.8.8"
  }
 },
 "nbformat": 4,
 "nbformat_minor": 5
}
