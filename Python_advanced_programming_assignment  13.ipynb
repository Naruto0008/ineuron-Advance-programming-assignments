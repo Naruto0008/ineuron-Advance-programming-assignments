{
 "cells": [
  {
   "cell_type": "code",
   "execution_count": null,
   "id": "fcbe0cc7",
   "metadata": {},
   "outputs": [],
   "source": [
    "1. Create a function that takes a list and string. The function should remove the letters in the string from the list, and return the list.\n",
    "\n",
    "Examples\n",
    "\n",
    "remove_letters([\"s\", \"t\", \"r\", \"i\", \"n\", \"g\", \"w\"], \"string\") ➞ [\"w\"]\n",
    "\n",
    "remove_letters([\"b\", \"b\", \"l\", \"l\", \"g\", \"n\", \"o\", \"a\", \"w\"], \"balloon\") ➞ [\"b\", \"g\", \"w\"]\n",
    "\n",
    "remove_letters([\"d\", \"b\", \"t\", \"e\", \"a\", \"i\"], \"edabit\") ➞ []\n"
   ]
  },
  {
   "cell_type": "code",
   "execution_count": 146,
   "id": "2252baa6",
   "metadata": {},
   "outputs": [],
   "source": [
    "def remove_letters(n,x):\n",
    "    y=list(x)\n",
    "    for i in y:\n",
    "        if i in n:\n",
    "               n.remove(i)\n",
    "    return n"
   ]
  },
  {
   "cell_type": "code",
   "execution_count": 147,
   "id": "d3dfe25a",
   "metadata": {},
   "outputs": [
    {
     "data": {
      "text/plain": [
       "['w']"
      ]
     },
     "execution_count": 147,
     "metadata": {},
     "output_type": "execute_result"
    }
   ],
   "source": [
    "remove_letters([\"s\", \"t\", \"r\", \"i\", \"n\", \"g\", \"w\"], \"string\")"
   ]
  },
  {
   "cell_type": "code",
   "execution_count": null,
   "id": "a6f2e01c",
   "metadata": {},
   "outputs": [],
   "source": [
    "2. A block sequence in three dimensions. We can write a formula for this one:\n",
    "\n",
    "\n",
    "\n",
    "\n",
    "\n",
    "\n",
    "\n",
    "\n",
    "\n",
    "\n",
    "Create a function that takes a number (step) as an argument and returns the amount of blocks in that step.\n",
    "\n",
    "Examples\n",
    "\n",
    "blocks(1) ➞ 5\n",
    "\n",
    "blocks(5) ➞ 39\n",
    "\n",
    "blocks(2) ➞ 12\n",
    "\n"
   ]
  },
  {
   "cell_type": "code",
   "execution_count": 156,
   "id": "3ee0abe2",
   "metadata": {},
   "outputs": [],
   "source": [
    "def blocks(n):\n",
    "    a=5\n",
    "    b=7\n",
    "    if(n==1):\n",
    "        return a\n",
    "    else:\n",
    "        for i in range(1,n):\n",
    "            a=a+b\n",
    "            b=b+1\n",
    "        return a"
   ]
  },
  {
   "cell_type": "code",
   "execution_count": 157,
   "id": "895820c8",
   "metadata": {},
   "outputs": [
    {
     "data": {
      "text/plain": [
       "39"
      ]
     },
     "execution_count": 157,
     "metadata": {},
     "output_type": "execute_result"
    }
   ],
   "source": [
    "blocks(5)"
   ]
  },
  {
   "cell_type": "code",
   "execution_count": 159,
   "id": "d6c16976",
   "metadata": {},
   "outputs": [
    {
     "data": {
      "text/plain": [
       "5549"
      ]
     },
     "execution_count": 159,
     "metadata": {},
     "output_type": "execute_result"
    }
   ],
   "source": [
    "blocks(100)"
   ]
  },
  {
   "cell_type": "code",
   "execution_count": null,
   "id": "2fe8e1ec",
   "metadata": {},
   "outputs": [],
   "source": [
    "3. Create a function that subtracts one positive integer from another, \n",
    "without using any arithmetic operators such as -, %, /, +, etc.\n",
    "\n",
    "Examples\n",
    "\n",
    "my_sub(5, 9) ➞ 4\n",
    "\n",
    "my_sub(10, 30) ➞ 20\n",
    "\n",
    "my_sub(0, 0) ➞ 0\n",
    "\n"
   ]
  },
  {
   "cell_type": "code",
   "execution_count": 187,
   "id": "2df427b5",
   "metadata": {},
   "outputs": [],
   "source": [
    "def my_sub(x,y):\n",
    "    l=[]\n",
    "    l1=[]\n",
    "    l2=[]\n",
    "    for i in range(x):\n",
    "        l.append(i)\n",
    "    for j in range(y):\n",
    "        l1.append(j)\n",
    "    x1=len(l)\n",
    "    y1=len(l1)\n",
    "    if(x1>y1):\n",
    "        for i in range(x):\n",
    "            if i in range(y):\n",
    "                i=0\n",
    "            else:\n",
    "                l2.append(i)\n",
    "    else:\n",
    "         for i in range(y):\n",
    "            if i in range(x):\n",
    "                i=0\n",
    "            else:\n",
    "                l2.append(i)\n",
    "    count=0\n",
    "    for i in l2:\n",
    "        count+=1\n",
    "    return count\n",
    "        "
   ]
  },
  {
   "cell_type": "code",
   "execution_count": 188,
   "id": "9ba7ad16",
   "metadata": {},
   "outputs": [
    {
     "data": {
      "text/plain": [
       "4"
      ]
     },
     "execution_count": 188,
     "metadata": {},
     "output_type": "execute_result"
    }
   ],
   "source": [
    "my_sub(5,9)"
   ]
  },
  {
   "cell_type": "code",
   "execution_count": 189,
   "id": "6885023c",
   "metadata": {},
   "outputs": [
    {
     "data": {
      "text/plain": [
       "10"
      ]
     },
     "execution_count": 189,
     "metadata": {},
     "output_type": "execute_result"
    }
   ],
   "source": [
    "my_sub(20,10)"
   ]
  },
  {
   "cell_type": "code",
   "execution_count": 190,
   "id": "af0dd67c",
   "metadata": {},
   "outputs": [
    {
     "data": {
      "text/plain": [
       "70"
      ]
     },
     "execution_count": 190,
     "metadata": {},
     "output_type": "execute_result"
    }
   ],
   "source": [
    "my_sub(100,30)"
   ]
  },
  {
   "cell_type": "code",
   "execution_count": null,
   "id": "5bc7f7d9",
   "metadata": {},
   "outputs": [],
   "source": [
    ".Create a function that takes a string containing money in dollars and pounds sterling (seperated by comma) and\n",
    "returns the sum of dollar bills only, as an integer.\n",
    "\n",
    "For the input string:\n",
    "\n",
    "   - Each amount is prefixed by the currency symbol: $ for dollars and £ for pounds.\n",
    "   - Thousands are represented by the suffix k.\n",
    "\n",
    "i.e. $4k = $4,000 and £40k = £40,000\n",
    "\n",
    "Examples\n",
    "\n",
    "add_bill(\"d20,p40,p60,d50\") ➞ 20 + 50 = 70\n",
    "\n",
    "add_bill(\"p30,d20,p60,d150,p360\") ➞ 20  + 150 = 170\n",
    "\n",
    "add_bill(\"p30,d2k,p60,d200,p360\") ➞ 2 * 1000 + 200 = 2200\n",
    "\n"
   ]
  },
  {
   "cell_type": "code",
   "execution_count": 17,
   "id": "b0a83de6",
   "metadata": {},
   "outputs": [],
   "source": [
    "def add_bill(x):\n",
    "    l=[]\n",
    "    n=x.split(',')\n",
    "    for i in n:\n",
    "        if(i[0]=='d'):\n",
    "            if(i[-1]=='k'):\n",
    "                l.append(int(i[1])*1000)\n",
    "            else:\n",
    "                l.append(int(i[1:]))\n",
    "        else:\n",
    "            pass\n",
    "    return sum(l)"
   ]
  },
  {
   "cell_type": "code",
   "execution_count": 18,
   "id": "18bfcc14",
   "metadata": {},
   "outputs": [
    {
     "data": {
      "text/plain": [
       "70"
      ]
     },
     "execution_count": 18,
     "metadata": {},
     "output_type": "execute_result"
    }
   ],
   "source": [
    "add_bill(\"d20,p40,p60,d50\")"
   ]
  },
  {
   "cell_type": "code",
   "execution_count": 19,
   "id": "929ee27d",
   "metadata": {},
   "outputs": [
    {
     "data": {
      "text/plain": [
       "170"
      ]
     },
     "execution_count": 19,
     "metadata": {},
     "output_type": "execute_result"
    }
   ],
   "source": [
    "add_bill(\"p30,d20,p60,d150,p360\")"
   ]
  },
  {
   "cell_type": "code",
   "execution_count": 20,
   "id": "71561e63",
   "metadata": {},
   "outputs": [
    {
     "data": {
      "text/plain": [
       "2200"
      ]
     },
     "execution_count": 20,
     "metadata": {},
     "output_type": "execute_result"
    }
   ],
   "source": [
    "add_bill(\"p30,d2k,p60,d200,p360\")"
   ]
  },
  {
   "cell_type": "code",
   "execution_count": null,
   "id": "98a0b446",
   "metadata": {},
   "outputs": [],
   "source": [
    "5. Create a function that flips a horizontal list into a vertical list, and a vertical list into a horizontal list.\n",
    "\n",
    "In other words, take an 1 x n list (1 row + n columns) and flip it into a n x 1 list (n rows and 1 column), and vice versa.\n",
    "\n",
    "Examples\n",
    "\n",
    "flip_list([1, 2, 3, 4]) ➞ [[1], [2], [3], [4]]\n",
    "# Take a horizontal list and flip it vertical.\n",
    "\n",
    "flip_list([[5], [6], [9]]) ➞ [5, 6, 9]\n",
    "# Take a vertical list and flip it horizontal.\n",
    "\n",
    "flip_list([]) ➞ []\n",
    "\n"
   ]
  },
  {
   "cell_type": "code",
   "execution_count": 5,
   "id": "1cfccb11",
   "metadata": {},
   "outputs": [],
   "source": [
    "def flip_list(n):\n",
    "    mat=[]\n",
    "    k=[]\n",
    "    for i in range(len(n)):\n",
    "        a=[]\n",
    "        for j in range(len(n[0])):\n",
    "            a.append(j)\n",
    "        mat.append(a)\n",
    "    for i in range(len(n)):\n",
    "        for j in range(len(n[0])):\n",
    "             print(mat[i])[j],end=' ' )\n",
    "        return mat"
   ]
  },
  {
   "cell_type": "code",
   "execution_count": 6,
   "id": "c779e1de",
   "metadata": {},
   "outputs": [
    {
     "ename": "TypeError",
     "evalue": "list indices must be integers or slices, not list",
     "output_type": "error",
     "traceback": [
      "\u001b[1;31m---------------------------------------------------------------------------\u001b[0m",
      "\u001b[1;31mTypeError\u001b[0m                                 Traceback (most recent call last)",
      "\u001b[1;32m<ipython-input-6-0e29431e4f47>\u001b[0m in \u001b[0;36m<module>\u001b[1;34m\u001b[0m\n\u001b[1;32m----> 1\u001b[1;33m \u001b[0mflip_list\u001b[0m\u001b[1;33m(\u001b[0m\u001b[1;33m[\u001b[0m\u001b[1;33m[\u001b[0m\u001b[1;36m1\u001b[0m\u001b[1;33m,\u001b[0m\u001b[1;36m2\u001b[0m\u001b[1;33m,\u001b[0m\u001b[1;36m3\u001b[0m\u001b[1;33m,\u001b[0m\u001b[1;36m4\u001b[0m\u001b[1;33m]\u001b[0m\u001b[1;33m]\u001b[0m\u001b[1;33m)\u001b[0m\u001b[1;33m\u001b[0m\u001b[1;33m\u001b[0m\u001b[0m\n\u001b[0m",
      "\u001b[1;32m<ipython-input-5-e3054bd9846b>\u001b[0m in \u001b[0;36mflip_list\u001b[1;34m(n)\u001b[0m\n\u001b[0;32m      9\u001b[0m     \u001b[1;32mfor\u001b[0m \u001b[0mi\u001b[0m \u001b[1;32min\u001b[0m \u001b[0mn\u001b[0m\u001b[1;33m:\u001b[0m\u001b[1;33m\u001b[0m\u001b[1;33m\u001b[0m\u001b[0m\n\u001b[0;32m     10\u001b[0m         \u001b[1;32mfor\u001b[0m \u001b[0mj\u001b[0m \u001b[1;32min\u001b[0m \u001b[0mn\u001b[0m\u001b[1;33m[\u001b[0m\u001b[1;36m0\u001b[0m\u001b[1;33m]\u001b[0m\u001b[1;33m:\u001b[0m\u001b[1;33m\u001b[0m\u001b[1;33m\u001b[0m\u001b[0m\n\u001b[1;32m---> 11\u001b[1;33m              \u001b[0mprint\u001b[0m\u001b[1;33m(\u001b[0m\u001b[0mmat\u001b[0m\u001b[1;33m[\u001b[0m\u001b[0mi\u001b[0m\u001b[1;33m]\u001b[0m\u001b[1;33m[\u001b[0m\u001b[0mj\u001b[0m\u001b[1;33m]\u001b[0m\u001b[1;33m,\u001b[0m\u001b[0mend\u001b[0m\u001b[1;33m=\u001b[0m\u001b[1;34m' '\u001b[0m \u001b[1;33m)\u001b[0m\u001b[1;33m\u001b[0m\u001b[1;33m\u001b[0m\u001b[0m\n\u001b[0m\u001b[0;32m     12\u001b[0m         \u001b[1;32mreturn\u001b[0m \u001b[0mmat\u001b[0m\u001b[1;33m\u001b[0m\u001b[1;33m\u001b[0m\u001b[0m\n",
      "\u001b[1;31mTypeError\u001b[0m: list indices must be integers or slices, not list"
     ]
    }
   ],
   "source": [
    "flip_list([[1,2,3,4]])"
   ]
  },
  {
   "cell_type": "code",
   "execution_count": 109,
   "id": "eef86cd2",
   "metadata": {},
   "outputs": [
    {
     "ename": "NameError",
     "evalue": "name 'n' is not defined",
     "output_type": "error",
     "traceback": [
      "\u001b[1;31m---------------------------------------------------------------------------\u001b[0m",
      "\u001b[1;31mNameError\u001b[0m                                 Traceback (most recent call last)",
      "\u001b[1;32m<ipython-input-109-efcb9d8dcfe2>\u001b[0m in \u001b[0;36m<module>\u001b[1;34m\u001b[0m\n\u001b[1;32m----> 1\u001b[1;33m \u001b[0mlen\u001b[0m\u001b[1;33m(\u001b[0m\u001b[0mn\u001b[0m\u001b[1;33m)\u001b[0m\u001b[1;33m\u001b[0m\u001b[1;33m\u001b[0m\u001b[0m\n\u001b[0m",
      "\u001b[1;31mNameError\u001b[0m: name 'n' is not defined"
     ]
    }
   ],
   "source": [
    "len(n)"
   ]
  },
  {
   "cell_type": "code",
   "execution_count": null,
   "id": "6021a54a",
   "metadata": {},
   "outputs": [],
   "source": []
  }
 ],
 "metadata": {
  "kernelspec": {
   "display_name": "Python 3",
   "language": "python",
   "name": "python3"
  },
  "language_info": {
   "codemirror_mode": {
    "name": "ipython",
    "version": 3
   },
   "file_extension": ".py",
   "mimetype": "text/x-python",
   "name": "python",
   "nbconvert_exporter": "python",
   "pygments_lexer": "ipython3",
   "version": "3.8.8"
  }
 },
 "nbformat": 4,
 "nbformat_minor": 5
}
