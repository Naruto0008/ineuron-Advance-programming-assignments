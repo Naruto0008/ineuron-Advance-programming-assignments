{
 "cells": [
  {
   "cell_type": "code",
   "execution_count": null,
   "id": "c23de257",
   "metadata": {},
   "outputs": [],
   "source": [
    "\n",
    "Q.1. For this challenge, forget how to add two numbers together. \n",
    "The best explanation on what to do for this function is this meme"
   ]
  },
  {
   "cell_type": "code",
   "execution_count": 74,
   "id": "721e08c0",
   "metadata": {},
   "outputs": [],
   "source": [
    "def meme_sum(x,y):\n",
    "    x1=list(str(x))\n",
    "    x2=list(str(y))\n",
    "    t=[]\n",
    "    for i in range(len(x1)):\n",
    "        t.append(str(int(x1[i])+int(x2[i])))\n",
    "    return int(''.join(t))\n",
    "    \n",
    "    \n",
    "    "
   ]
  },
  {
   "cell_type": "code",
   "execution_count": 75,
   "id": "1bfe78b6",
   "metadata": {},
   "outputs": [
    {
     "data": {
      "text/plain": [
       "410"
      ]
     },
     "execution_count": 75,
     "metadata": {},
     "output_type": "execute_result"
    }
   ],
   "source": [
    "meme_sum(25,25)"
   ]
  },
  {
   "cell_type": "code",
   "execution_count": 76,
   "id": "022f9a80",
   "metadata": {},
   "outputs": [
    {
     "data": {
      "text/plain": [
       "688"
      ]
     },
     "execution_count": 76,
     "metadata": {},
     "output_type": "execute_result"
    }
   ],
   "source": [
    "meme_sum(348,340)"
   ]
  },
  {
   "cell_type": "code",
   "execution_count": 77,
   "id": "bc3841ed",
   "metadata": {},
   "outputs": [
    {
     "data": {
      "text/plain": [
       "3333"
      ]
     },
     "execution_count": 77,
     "metadata": {},
     "output_type": "execute_result"
    }
   ],
   "source": [
    "meme_sum(1222,2111)"
   ]
  },
  {
   "cell_type": "code",
   "execution_count": 78,
   "id": "a03ccc5d",
   "metadata": {},
   "outputs": [
    {
     "data": {
      "text/plain": [
       "515"
      ]
     },
     "execution_count": 78,
     "metadata": {},
     "output_type": "execute_result"
    }
   ],
   "source": [
    "meme_sum(26, 39)"
   ]
  },
  {
   "cell_type": "code",
   "execution_count": null,
   "id": "799f1fc7",
   "metadata": {},
   "outputs": [],
   "source": [
    "Q.2. Given an integer, create a function that returns the next prime. If the number is prime,\n",
    "return the number itself. Examples\n",
    "\n",
    "next_prime(12) ➞ 13 next_prime(24) ➞ 29 next_prime(11) ➞ 11"
   ]
  },
  {
   "cell_type": "code",
   "execution_count": 357,
   "id": "db994142",
   "metadata": {},
   "outputs": [],
   "source": [
    "def isPrime(n):\n",
    "    if n==1:\n",
    "        return True\n",
    "    else:\n",
    "        for i in range(2,int(n/2)+1):\n",
    "            if n%i==0:\n",
    "                return False\n",
    "        return True\n",
    "\n",
    "def next_prime(x):\n",
    "    if isPrime(x):\n",
    "        return x\n",
    "    else:\n",
    "        while(isPrime(x)!=True):\n",
    "            x=x+1\n",
    "        return x"
   ]
  },
  {
   "cell_type": "code",
   "execution_count": 358,
   "id": "b20d5d5f",
   "metadata": {},
   "outputs": [
    {
     "data": {
      "text/plain": [
       "13"
      ]
     },
     "execution_count": 358,
     "metadata": {},
     "output_type": "execute_result"
    }
   ],
   "source": [
    "next_prime(12)"
   ]
  },
  {
   "cell_type": "code",
   "execution_count": 87,
   "id": "6b25db1d",
   "metadata": {},
   "outputs": [
    {
     "data": {
      "text/plain": [
       "30.0"
      ]
     },
     "execution_count": 87,
     "metadata": {},
     "output_type": "execute_result"
    }
   ],
   "source": [
    "avg_speed(18, 20, 60)"
   ]
  },
  {
   "cell_type": "code",
   "execution_count": 88,
   "id": "74174d6e",
   "metadata": {},
   "outputs": [
    {
     "data": {
      "text/plain": [
       "15.0"
      ]
     },
     "execution_count": 88,
     "metadata": {},
     "output_type": "execute_result"
    }
   ],
   "source": [
    "avg_speed(30, 10, 30)"
   ]
  },
  {
   "cell_type": "code",
   "execution_count": null,
   "id": "75a2ab75",
   "metadata": {},
   "outputs": [],
   "source": []
  },
  {
   "cell_type": "code",
   "execution_count": null,
   "id": "48e21975",
   "metadata": {},
   "outputs": [],
   "source": [
    "Q.4. The Kempner Function, applied to a composite number, permits to find the smallest integer greater than zero\n",
    "whose factorial is exactly divided by the number. kempner(6) ➞ 3 1! = 1 % 6 > 0 2! = 2 % 6 > 0 3! = 6 % 6 === 0\n",
    "kempner(10) ➞ 5 1! = 1 % 10 > 0 2! = 2 % 10 > 0 3! = 6 % 10 > 0 4! = 24 % 10 > 0 5! = 120 % 10 === 0\n",
    "A Kempner Function applied to a prime will always return the prime itself. kempner(2) ➞ 2 kempner(5) ➞ 5"
   ]
  },
  {
   "cell_type": "code",
   "execution_count": 353,
   "id": "979a600f",
   "metadata": {},
   "outputs": [],
   "source": [
    "def isPrime(n):\n",
    "    if n==1:\n",
    "        return True\n",
    "    else:\n",
    "        for i in range(2,int(n/2)+1):\n",
    "            if n%i==0:\n",
    "                return False\n",
    "        return True\n",
    "def fact(x):\n",
    "        if(x==1 or x==0):\n",
    "               return 1\n",
    "        else:\n",
    "             return (x)*fact(x-1)\n",
    "def kempner(n):\n",
    "    l=[]\n",
    "    i=1\n",
    "    if  isPrime(n):\n",
    "        return n\n",
    "    else:\n",
    "        while(i<n):\n",
    "            fact(i)\n",
    "            if(fact(i)%n>0):\n",
    "                pass\n",
    "            elif(fact(i)%n==0):\n",
    "                print(fact(i))\n",
    "                l.append(i)\n",
    "            i+=1\n",
    "        return min(l)\n",
    "    "
   ]
  },
  {
   "cell_type": "code",
   "execution_count": 356,
   "id": "02d36825",
   "metadata": {},
   "outputs": [
    {
     "data": {
      "text/plain": [
       "2"
      ]
     },
     "execution_count": 356,
     "metadata": {},
     "output_type": "execute_result"
    }
   ],
   "source": [
    "kempner(2)"
   ]
  },
  {
   "cell_type": "code",
   "execution_count": null,
   "id": "e8657e82",
   "metadata": {},
   "outputs": [],
   "source": [
    "\n",
    "Q. 5. You work in a factory, and your job is to take items from a conveyor belt and pack them into boxes.\n",
    "Each box can hold a maximum of 10 kgs. \n",
    "Given a list containing the weight (in kg) of each item, how many boxes would you need to pack all of the items?"
   ]
  },
  {
   "cell_type": "code",
   "execution_count": 346,
   "id": "99946ff6",
   "metadata": {},
   "outputs": [],
   "source": [
    "    \n",
    "def boxes(n):\n",
    "        l=[]\n",
    "        l1=[]\n",
    "        sum=0\n",
    "        if(n<=10):\n",
    "            return 1\n",
    "        else:\n",
    "            x=n//10\n",
    "            y=n%10\n",
    "        l.append(x*10)\n",
    "        l.append(y) \n",
    "        print(l)\n",
    "        for i in l:\n",
    "            print(i)\n",
    "            if(i==0):\n",
    "                l1.append(i)\n",
    "            elif(i<=10):\n",
    "                    i=1\n",
    "                    l1.append(i)\n",
    "            else:\n",
    "                     i=i/10\n",
    "                     l1.append(i)\n",
    "        for i in l1:\n",
    "                 print(type(i))\n",
    "                 sum=sum+i\n",
    "        return sum\n",
    "            \n",
    " "
   ]
  },
  {
   "cell_type": "code",
   "execution_count": null,
   "id": "c9b9de5c",
   "metadata": {},
   "outputs": [],
   "source": []
  },
  {
   "cell_type": "code",
   "execution_count": null,
   "id": "1cd5ae45",
   "metadata": {},
   "outputs": [],
   "source": []
  },
  {
   "cell_type": "code",
   "execution_count": null,
   "id": "c70e0385",
   "metadata": {},
   "outputs": [],
   "source": []
  },
  {
   "cell_type": "code",
   "execution_count": 347,
   "id": "f9f4947c",
   "metadata": {},
   "outputs": [
    {
     "name": "stdout",
     "output_type": "stream",
     "text": [
      "[60, 5]\n",
      "60\n",
      "5\n",
      "<class 'float'>\n",
      "<class 'int'>\n"
     ]
    },
    {
     "data": {
      "text/plain": [
       "7.0"
      ]
     },
     "execution_count": 347,
     "metadata": {},
     "output_type": "execute_result"
    }
   ],
   "source": [
    "boxes(65)"
   ]
  },
  {
   "cell_type": "code",
   "execution_count": null,
   "id": "77f37599",
   "metadata": {},
   "outputs": [],
   "source": [
    "  for i in range(len(l)):\n",
    "            if(int(l[i])==0):\n",
    "                l1.append(l[i])\n",
    "            elif(int(l[i])<=10):\n",
    "                    l[i]=1\n",
    "                    l1.append(int(l[i])\n",
    "            else:\n",
    "                  int(l[i])=int(l[i])/10\n",
    "                  l1.append(int(l[i])\n",
    "    for i in l1:\n",
    "        print(type(i))\n",
    "        sum=sum+i\n",
    "    return sum\n",
    "            "
   ]
  },
  {
   "cell_type": "code",
   "execution_count": null,
   "id": "822faac1",
   "metadata": {},
   "outputs": [],
   "source": []
  }
 ],
 "metadata": {
  "kernelspec": {
   "display_name": "Python 3",
   "language": "python",
   "name": "python3"
  },
  "language_info": {
   "codemirror_mode": {
    "name": "ipython",
    "version": 3
   },
   "file_extension": ".py",
   "mimetype": "text/x-python",
   "name": "python",
   "nbconvert_exporter": "python",
   "pygments_lexer": "ipython3",
   "version": "3.8.8"
  }
 },
 "nbformat": 4,
 "nbformat_minor": 5
}
