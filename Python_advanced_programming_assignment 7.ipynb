{
 "cells": [
  {
   "cell_type": "code",
   "execution_count": null,
   "id": "b363f982",
   "metadata": {},
   "outputs": [],
   "source": [
    "1. Write a function that counts how many concentric layers a rug.\n",
    "\n",
    "Examples\n",
    "\n",
    "count_layers([\n",
    "  \"AAAA\",\n",
    "  \"ABBA\",\n",
    "  \"AAAA\"\n",
    "]) ➞ 2\n",
    "\n",
    "count_layers([\n",
    "  \"AAAAAAAAA\",\n",
    "  \"ABBBBBBBA\",\n",
    "  \"ABBAAABBA\",\n",
    "  \"ABBBBBBBA\",\n",
    "  \"AAAAAAAAA\"\n",
    "]) ➞ 3\n",
    "\n",
    "count_layers([\n",
    "  \"AAAAAAAAAAA\",\n",
    "  \"AABBBBBBBAA\",\n",
    "  \"AABCCCCCBAA\",\n",
    "  \"AABCAAACBAA\",\n",
    "  \"AABCADACBAA\",\n",
    "  \"AABCAAACBAA\",\n",
    "  \"AABCCCCCBAA\",\n",
    "  \"AABBBBBBBAA\",\n",
    "  \"AAAAAAAAAAA\"\n",
    "]) ➞ 5\n",
    "\n",
    "2. There are many different styles of music and many albums exhibit multiple styles. Create a function that takes a list of musical styles from albums and returns how many styles are unique.\n",
    "\n",
    "Examples\n",
    "\n",
    "unique_styles([\n",
    "  \"Dub,Dancehall\",\n",
    "  \"Industrial,Heavy Metal\",\n",
    "  \"Techno,Dubstep\",\n",
    "  \"Synth-pop,Euro-Disco\",\n",
    "  \"Industrial,Techno,Minimal\"\n",
    "]) ➞ 9\n",
    "\n",
    "unique_styles([\n",
    "  \"Soul\",\n",
    "  \"House,Folk\",\n",
    "  \"Trance,Downtempo,Big Beat,House\",\n",
    "  \"Deep House\",\n",
    "  \"Soul\"\n",
    "]) ➞ 7\n",
    "\n",
    "\n",
    "3. Create a function that finds a target number in a list of prime numbers. Implement a binary search algorithm in your function. The target number will be from 2 through 97. If the target is prime then return \"yes\" else return \"no\".\n",
    "\n",
    "Examples\n",
    "\n",
    "primes = [2, 3, 5, 7, 11, 13, 17, 19, 23, 29, 31, 37, 41, 43, 47, 53, 59, 61, 67, 71, 73, 79, 83, 89, 97]\n",
    "\n",
    "\n",
    "is_prime(primes, 3) ➞ \"yes\"\n",
    "\n",
    "is_prime(primes, 4) ➞ \"no\"\n",
    "\n",
    "is_prime(primes, 67) ➞ \"yes\"\n",
    "\n",
    "is_prime(primes, 36) ➞ \"no\"\n",
    "\n",
    "4. Create a function that takes in n, a, b and returns the number of positive values raised to the nth power that lie in the range [a, b], inclusive.\n",
    "\n",
    "Examples\n",
    "\n",
    "power_ranger(2, 49, 65) ➞ 2\n",
    "# 2 squares (n^2) lie between 49 and 65, 49 (7^2) and 64 (8^2)\n",
    "\n",
    "power_ranger(3, 1, 27) ➞ 3\n",
    "# 3 cubes (n^3) lie between 1 and 27, 1 (1^3), 8 (2^3) and 27 (3^3)\n",
    "\n",
    "power_ranger(10, 1, 5) ➞ 1\n",
    "# 1 value raised to the 10th power lies between 1 and 5, 1 (1^10)\n",
    "\n",
    "power_ranger(5, 31, 33) ➞ 1\n",
    "\n",
    "power_ranger(4, 250, 1300) ➞ 3\n",
    "\n",
    "5. Given a number, return the difference between the maximum and minimum numbers that can be formed when the digits are rearranged.\n",
    "\n",
    "Examples\n",
    "\n",
    "rearranged_difference(972882) ➞ 760833\n",
    "# 988722 - 227889 = 760833\n",
    "\n",
    "rearranged_difference(3320707) ➞ 7709823\n",
    "# 7733200 - 23377 = 7709823\n",
    "\n",
    "rearranged_difference(90010) ➞ 90981\n",
    "# 91000 - 19 = 90981\n",
    "\n",
    "\n"
   ]
  },
  {
   "cell_type": "code",
   "execution_count": null,
   "id": "728749ed",
   "metadata": {},
   "outputs": [],
   "source": [
    "1. Write a function that counts how many concentric layers a rug.\n",
    "\n",
    "Examples\n",
    "\n",
    "count_layers([\n",
    "  \"AAAA\",\n",
    "  \"ABBA\",\n",
    "  \"AAAA\"\n",
    "]) ➞ 2\n",
    "\n",
    "count_layers([\n",
    "  \"AAAAAAAAA\",\n",
    "  \"ABBBBBBBA\",\n",
    "  \"ABBAAABBA\",\n",
    "  \"ABBBBBBBA\",\n",
    "  \"AAAAAAAAA\"\n",
    "]) ➞ 3\n",
    "\n",
    "count_layers([\n",
    "  \"AAAAAAAAAAA\",\n",
    "  \"AABBBBBBBAA\",\n",
    "  \"AABCCCCCBAA\",\n",
    "  \"AABCAAACBAA\",\n",
    "  \"AABCADACBAA\",\n",
    "  \"AABCAAACBAA\",\n",
    "  \"AABCCCCCBAA\",\n",
    "  \"AABBBBBBBAA\",\n",
    "  \"AAAAAAAAAAA\"\n",
    "]) ➞ 5"
   ]
  },
  {
   "cell_type": "code",
   "execution_count": 5,
   "id": "53032272",
   "metadata": {},
   "outputs": [],
   "source": [
    "def count_layers(n):\n",
    "    x=set(n)\n",
    "    count=0\n",
    "    for i in x:\n",
    "        count+=1\n",
    "    return count"
   ]
  },
  {
   "cell_type": "code",
   "execution_count": 6,
   "id": "7417df7e",
   "metadata": {},
   "outputs": [
    {
     "data": {
      "text/plain": [
       "5"
      ]
     },
     "execution_count": 6,
     "metadata": {},
     "output_type": "execute_result"
    }
   ],
   "source": [
    "count_layers([\n",
    "  \"AAAAAAAAAAA\",\n",
    "  \"AABBBBBBBAA\",\n",
    "  \"AABCCCCCBAA\",\n",
    "  \"AABCAAACBAA\",\n",
    "  \"AABCADACBAA\",\n",
    "  \"AABCAAACBAA\",\n",
    "  \"AABCCCCCBAA\",\n",
    "  \"AABBBBBBBAA\",\n",
    "  \"AAAAAAAAAAA\"\n",
    "])"
   ]
  },
  {
   "cell_type": "code",
   "execution_count": 7,
   "id": "d0fe0221",
   "metadata": {},
   "outputs": [
    {
     "data": {
      "text/plain": [
       "3"
      ]
     },
     "execution_count": 7,
     "metadata": {},
     "output_type": "execute_result"
    }
   ],
   "source": [
    "count_layers([\n",
    "  \"AAAAAAAAA\",\n",
    "  \"ABBBBBBBA\",\n",
    "  \"ABBAAABBA\",\n",
    "  \"ABBBBBBBA\",\n",
    "  \"AAAAAAAAA\"\n",
    "])"
   ]
  },
  {
   "cell_type": "code",
   "execution_count": null,
   "id": "c0b3abb9",
   "metadata": {},
   "outputs": [],
   "source": [
    "2. There are many different styles of music and many albums exhibit multiple styles.\n",
    "Create a function that takes a list of musical styles from albums and returns how many styles are unique.\n",
    "\n",
    "Examples\n",
    "\n",
    "unique_styles([\n",
    "  \"Dub,Dancehall\",\n",
    "  \"Industrial,Heavy Metal\",\n",
    "  \"Techno,Dubstep\",\n",
    "  \"Synth-pop,Euro-Disco\",\n",
    "  \"Industrial,Techno,Minimal\"\n",
    "]) ➞ 9\n",
    "\n",
    "unique_styles([\n",
    "  \"Soul\",\n",
    "  \"House,Folk\",\n",
    "  \"Trance,Downtempo,Big Beat,House\",\n",
    "  \"Deep House\",\n",
    "  \"Soul\"\n",
    "]) ➞ 7\n"
   ]
  },
  {
   "cell_type": "code",
   "execution_count": 63,
   "id": "06e64479",
   "metadata": {},
   "outputs": [],
   "source": [
    "def unique_styles(n):\n",
    "    x1=((n))\n",
    "    print(x1)\n",
    "    count=0\n",
    "    l=[]\n",
    "    for i in x1:\n",
    "        l.extend(i.split(','))\n",
    "    for i in set(l):\n",
    "        count+=1\n",
    "    return count"
   ]
  },
  {
   "cell_type": "code",
   "execution_count": 64,
   "id": "7c48ea28",
   "metadata": {},
   "outputs": [
    {
     "name": "stdout",
     "output_type": "stream",
     "text": [
      "['Soul', 'House,Folk', 'Trance,Downtempo,Big Beat,House', 'Deep House', 'Soul']\n"
     ]
    },
    {
     "data": {
      "text/plain": [
       "7"
      ]
     },
     "execution_count": 64,
     "metadata": {},
     "output_type": "execute_result"
    }
   ],
   "source": [
    "unique_styles([\n",
    "  \"Soul\",\n",
    "  \"House,Folk\",\n",
    "  \"Trance,Downtempo,Big Beat,House\",\n",
    "  \"Deep House\",\n",
    "  \"Soul\"\n",
    "])"
   ]
  },
  {
   "cell_type": "code",
   "execution_count": 65,
   "id": "e3ffab00",
   "metadata": {},
   "outputs": [
    {
     "name": "stdout",
     "output_type": "stream",
     "text": [
      "['Dub,Dancehall', 'Industrial,Heavy Metal', 'Techno,Dubstep', 'Synth-pop,Euro-Disco', 'Industrial,Techno,Minimal']\n"
     ]
    },
    {
     "data": {
      "text/plain": [
       "9"
      ]
     },
     "execution_count": 65,
     "metadata": {},
     "output_type": "execute_result"
    }
   ],
   "source": [
    "unique_styles([\n",
    "  \"Dub,Dancehall\",\n",
    "  \"Industrial,Heavy Metal\",\n",
    "  \"Techno,Dubstep\",\n",
    "  \"Synth-pop,Euro-Disco\",\n",
    "  \"Industrial,Techno,Minimal\"\n",
    "])"
   ]
  },
  {
   "cell_type": "code",
   "execution_count": null,
   "id": "f8e90c33",
   "metadata": {},
   "outputs": [],
   "source": [
    "3. Create a function that finds a target number in a list of prime numbers. \n",
    "Implement a binary search algorithm in your function. \n",
    "The target number will be from 2 through 97. If the target is prime then return \"yes\" else return \"no\".\n",
    "\n",
    "Examples\n",
    "\n",
    "primes = [2, 3, 5, 7, 11, 13, 17, 19, 23, 29, 31, 37, 41, 43, 47, 53, 59, 61, 67, 71, 73, 79, 83, 89, 97]\n",
    "\n",
    "\n",
    "is_prime(primes, 3) ➞ \"yes\"\n",
    "\n",
    "is_prime(primes, 4) ➞ \"no\"\n",
    "\n",
    "is_prime(primes, 67) ➞ \"yes\"\n",
    "\n",
    "is_prime(primes, 36) ➞ \"no\""
   ]
  },
  {
   "cell_type": "code",
   "execution_count": null,
   "id": "9bb5f0d6",
   "metadata": {},
   "outputs": [],
   "source": []
  },
  {
   "cell_type": "code",
   "execution_count": null,
   "id": "b518da15",
   "metadata": {},
   "outputs": [],
   "source": [
    "\n",
    "4. Create a function that takes in n, a, b and returns the number of positive values raised to \n",
    "the nth power that lie in the range [a, b], inclusive.\n",
    "\n",
    "Examples\n",
    "\n",
    "power_ranger(2, 49, 65) ➞ 2\n",
    "# 2 squares (n^2) lie between 49 and 65, 49 (7^2) and 64 (8^2)\n",
    "\n",
    "power_ranger(3, 1, 27) ➞ 3\n",
    "# 3 cubes (n^3) lie between 1 and 27, 1 (1^3), 8 (2^3) and 27 (3^3)\n",
    "\n",
    "power_ranger(10, 1, 5) ➞ 1\n",
    "# 1 value raised to the 10th power lies between 1 and 5, 1 (1^10)\n",
    "\n",
    "power_ranger(5, 31, 33) ➞ 1\n",
    "\n",
    "power_ranger(4, 250, 1300) ➞ 3"
   ]
  },
  {
   "cell_type": "code",
   "execution_count": 45,
   "id": "faa25a45",
   "metadata": {},
   "outputs": [],
   "source": [
    "import math\n",
    "\n",
    "def power_ranger(x,y,z):\n",
    "    count=0\n",
    "    for i in range(z):\n",
    "        if i**x in range(y,z):\n",
    "            count+=1\n",
    "    return count"
   ]
  },
  {
   "cell_type": "code",
   "execution_count": 46,
   "id": "720b305f",
   "metadata": {},
   "outputs": [
    {
     "data": {
      "text/plain": [
       "1"
      ]
     },
     "execution_count": 46,
     "metadata": {},
     "output_type": "execute_result"
    }
   ],
   "source": [
    "power_ranger(5, 31, 33)"
   ]
  },
  {
   "cell_type": "code",
   "execution_count": 47,
   "id": "f7cf722b",
   "metadata": {},
   "outputs": [
    {
     "data": {
      "text/plain": [
       "3"
      ]
     },
     "execution_count": 47,
     "metadata": {},
     "output_type": "execute_result"
    }
   ],
   "source": [
    "power_ranger(4, 250, 1300)"
   ]
  },
  {
   "cell_type": "code",
   "execution_count": 48,
   "id": "23b143d3",
   "metadata": {},
   "outputs": [
    {
     "data": {
      "text/plain": [
       "2"
      ]
     },
     "execution_count": 48,
     "metadata": {},
     "output_type": "execute_result"
    }
   ],
   "source": [
    "power_ranger(3, 1, 27)"
   ]
  },
  {
   "cell_type": "code",
   "execution_count": 49,
   "id": "d8db4e0d",
   "metadata": {},
   "outputs": [
    {
     "data": {
      "text/plain": [
       "2"
      ]
     },
     "execution_count": 49,
     "metadata": {},
     "output_type": "execute_result"
    }
   ],
   "source": [
    "power_ranger(2, 49, 65)"
   ]
  },
  {
   "cell_type": "code",
   "execution_count": null,
   "id": "7fc86c72",
   "metadata": {},
   "outputs": [],
   "source": [
    "5. Given a number, return the difference between the maximum and minimum numbers that\n",
    "can be formed when the digits are rearranged.\n",
    "\n",
    "Examples\n",
    "\n",
    "rearranged_difference(972882) ➞ 760833\n",
    "# 988722 - 227889 = 760833\n",
    "\n",
    "rearranged_difference(3320707) ➞ 7709823\n",
    "# 7733200 - 23377 = 7709823\n",
    "\n",
    "rearranged_difference(90010) ➞ 90981\n",
    "# 91000 - 19 = 90981\n"
   ]
  },
  {
   "cell_type": "code",
   "execution_count": 161,
   "id": "3e9fc440",
   "metadata": {},
   "outputs": [],
   "source": [
    "import math\n",
    "def  rearranged_difference(n):\n",
    "    x=list(str(n))\n",
    "    print(x)\n",
    "   ## y=max(x)\n",
    "    ##print(y)\n",
    "    ##z=min(x)\n",
    "   ## print(z)\n",
    "    ##l=[y]\n",
    "    ##l2=[z]\n",
    "    l=[]\n",
    "    y=sorted(x)\n",
    "    print(y)\n",
    "    y1=(''.join(y))\n",
    "    print(y1)\n",
    "    z=sorted(x,reverse=True)\n",
    "    z1=(''.join(z))\n",
    "    print(z1)\n",
    "    return (int(z1)-int(y1))\n",
    "            "
   ]
  },
  {
   "cell_type": "code",
   "execution_count": 162,
   "id": "1000f3d6",
   "metadata": {},
   "outputs": [
    {
     "name": "stdout",
     "output_type": "stream",
     "text": [
      "['9', '0', '0', '1', '0']\n",
      "['0', '0', '0', '1', '9']\n",
      "00019\n",
      "91000\n"
     ]
    },
    {
     "data": {
      "text/plain": [
       "90981"
      ]
     },
     "execution_count": 162,
     "metadata": {},
     "output_type": "execute_result"
    }
   ],
   "source": [
    "rearranged_difference(90010)"
   ]
  },
  {
   "cell_type": "code",
   "execution_count": 163,
   "id": "4fd1bb58",
   "metadata": {},
   "outputs": [
    {
     "name": "stdout",
     "output_type": "stream",
     "text": [
      "['3', '3', '2', '0', '7', '0', '7']\n",
      "['0', '0', '2', '3', '3', '7', '7']\n",
      "0023377\n",
      "7733200\n"
     ]
    },
    {
     "data": {
      "text/plain": [
       "7709823"
      ]
     },
     "execution_count": 163,
     "metadata": {},
     "output_type": "execute_result"
    }
   ],
   "source": [
    "rearranged_difference(3320707)"
   ]
  },
  {
   "cell_type": "code",
   "execution_count": 164,
   "id": "9e3e8d60",
   "metadata": {},
   "outputs": [
    {
     "name": "stdout",
     "output_type": "stream",
     "text": [
      "['9', '7', '2', '8', '8', '2']\n",
      "['2', '2', '7', '8', '8', '9']\n",
      "227889\n",
      "988722\n"
     ]
    },
    {
     "data": {
      "text/plain": [
       "760833"
      ]
     },
     "execution_count": 164,
     "metadata": {},
     "output_type": "execute_result"
    }
   ],
   "source": [
    "rearranged_difference(972882)"
   ]
  },
  {
   "cell_type": "code",
   "execution_count": null,
   "id": "235f265d",
   "metadata": {},
   "outputs": [],
   "source": []
  }
 ],
 "metadata": {
  "kernelspec": {
   "display_name": "Python 3",
   "language": "python",
   "name": "python3"
  },
  "language_info": {
   "codemirror_mode": {
    "name": "ipython",
    "version": 3
   },
   "file_extension": ".py",
   "mimetype": "text/x-python",
   "name": "python",
   "nbconvert_exporter": "python",
   "pygments_lexer": "ipython3",
   "version": "3.8.8"
  }
 },
 "nbformat": 4,
 "nbformat_minor": 5
}
